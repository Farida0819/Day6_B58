{
 "cells": [
  {
   "cell_type": "code",
   "execution_count": null,
   "id": "82b3d67e-c3e4-47fb-af0f-b51f87b65455",
   "metadata": {},
   "outputs": [],
   "source": [
    "Introduction to looping statements :"
   ]
  },
  {
   "cell_type": "code",
   "execution_count": null,
   "id": "75865187-931f-46a3-835f-919a21183eb9",
   "metadata": {},
   "outputs": [],
   "source": [
    "Understanding the concept of for loops :"
   ]
  },
  {
   "cell_type": "code",
   "execution_count": 3,
   "id": "90a50c07-fe83-4f7c-8565-4d178bd392d3",
   "metadata": {},
   "outputs": [],
   "source": [
    "students = ['kumar', \"Naveen\", 'Vinaya', \"samreen\", 'naveed', \"sohail\"]"
   ]
  },
  {
   "cell_type": "code",
   "execution_count": 4,
   "id": "8b9df54a-f6af-44f0-8fd1-c34c2e64638d",
   "metadata": {},
   "outputs": [
    {
     "name": "stdout",
     "output_type": "stream",
     "text": [
      "['kumar', 'Naveen', 'Vinaya', 'samreen', 'naveed', 'sohail']\n"
     ]
    }
   ],
   "source": [
    "print(students)"
   ]
  },
  {
   "cell_type": "code",
   "execution_count": null,
   "id": "7ec1ad2e-3afa-4eb1-9d0f-0d92723d19fa",
   "metadata": {},
   "outputs": [],
   "source": []
  },
  {
   "cell_type": "code",
   "execution_count": null,
   "id": "3465ead0-bdb7-45a2-b7db-4880ba836737",
   "metadata": {},
   "outputs": [],
   "source": [
    "1st approach"
   ]
  },
  {
   "cell_type": "code",
   "execution_count": 8,
   "id": "f3de2205-ec3d-42f7-8c3d-6cc3ea5ca6e7",
   "metadata": {},
   "outputs": [],
   "source": [
    "message = f\"keep up the good work, {students[0]}\""
   ]
  },
  {
   "cell_type": "code",
   "execution_count": 9,
   "id": "19090656-41cb-4ec4-a516-464fa2709ce9",
   "metadata": {},
   "outputs": [
    {
     "name": "stdout",
     "output_type": "stream",
     "text": [
      "keep up the good work, kumar\n"
     ]
    }
   ],
   "source": [
    "print(message)"
   ]
  },
  {
   "cell_type": "code",
   "execution_count": 10,
   "id": "8b73357a-7f01-4889-86fb-20365b5008ac",
   "metadata": {},
   "outputs": [
    {
     "name": "stdout",
     "output_type": "stream",
     "text": [
      "keep up the good work, Vinaya\n"
     ]
    }
   ],
   "source": [
    "message = f'keep up the good work, {students[2]}'\n",
    "\n",
    "print(message)"
   ]
  },
  {
   "cell_type": "code",
   "execution_count": 12,
   "id": "e754240c-c06c-4b61-9001-682a3b85c3a2",
   "metadata": {},
   "outputs": [
    {
     "name": "stdout",
     "output_type": "stream",
     "text": [
      "keep up the good work, Samreen\n"
     ]
    }
   ],
   "source": [
    "message = f'keep up the good work, {students[3].title()}'\n",
    "\n",
    "print(message)"
   ]
  },
  {
   "cell_type": "code",
   "execution_count": null,
   "id": "29be3103-45e8-4420-b6e6-b5231a55f20f",
   "metadata": {},
   "outputs": [],
   "source": [
    "#general syntax of for loop :"
   ]
  },
  {
   "cell_type": "code",
   "execution_count": null,
   "id": "6c601b29-8262-4a80-9a98-8451d42750cd",
   "metadata": {},
   "outputs": [],
   "source": [
    "for tempvar in mainvar :\n",
    "print(tempvar)"
   ]
  },
  {
   "cell_type": "code",
   "execution_count": 14,
   "id": "481eef0b-56d8-4c24-9e84-7b41a6d788ca",
   "metadata": {},
   "outputs": [
    {
     "name": "stdout",
     "output_type": "stream",
     "text": [
      "keep up the good work, kumar\n",
      "keep up the good work, Naveen\n",
      "keep up the good work, Vinaya\n",
      "keep up the good work, samreen\n",
      "keep up the good work, naveed\n",
      "keep up the good work, sohail\n"
     ]
    }
   ],
   "source": [
    "for x in students:\n",
    "    print(f\"keep up the good work, {x}\")"
   ]
  },
  {
   "cell_type": "code",
   "execution_count": 15,
   "id": "dbf8032f-a329-4834-9e71-41b65e65016e",
   "metadata": {},
   "outputs": [
    {
     "name": "stdout",
     "output_type": "stream",
     "text": [
      "keep up the good work, Kumar\n",
      "keep up the good work, Naveen\n",
      "keep up the good work, Vinaya\n",
      "keep up the good work, Samreen\n",
      "keep up the good work, Naveed\n",
      "keep up the good work, Sohail\n"
     ]
    }
   ],
   "source": [
    "for x in students:\n",
    "    print(f\"keep up the good work, {x.title()}\")"
   ]
  },
  {
   "cell_type": "code",
   "execution_count": 16,
   "id": "3cdb9c4f-ef14-4316-8b91-16d4a0e1a161",
   "metadata": {},
   "outputs": [
    {
     "name": "stdout",
     "output_type": "stream",
     "text": [
      "keep up the good work, Kumar\n",
      "I am expecting everyone to submit the assignment today\n",
      "keep up the good work, Naveen\n",
      "I am expecting everyone to submit the assignment today\n",
      "keep up the good work, Vinaya\n",
      "I am expecting everyone to submit the assignment today\n",
      "keep up the good work, Samreen\n",
      "I am expecting everyone to submit the assignment today\n",
      "keep up the good work, Naveed\n",
      "I am expecting everyone to submit the assignment today\n",
      "keep up the good work, Sohail\n",
      "I am expecting everyone to submit the assignment today\n"
     ]
    }
   ],
   "source": [
    "for x in students:\n",
    "    print(f\"keep up the good work, {x.title()}\")\n",
    "    print(f\"I am expecting everyone to submit the assignment today\")"
   ]
  },
  {
   "cell_type": "code",
   "execution_count": 18,
   "id": "01229236-89c7-4667-8202-5f4afd58f4bf",
   "metadata": {},
   "outputs": [
    {
     "name": "stdout",
     "output_type": "stream",
     "text": [
      "keep up the good work, Kumar\n",
      "I am expecting everyone to submit the assignment today\n",
      "\n",
      "keep up the good work, Naveen\n",
      "I am expecting everyone to submit the assignment today\n",
      "\n",
      "keep up the good work, Vinaya\n",
      "I am expecting everyone to submit the assignment today\n",
      "\n",
      "keep up the good work, Samreen\n",
      "I am expecting everyone to submit the assignment today\n",
      "\n",
      "keep up the good work, Naveed\n",
      "I am expecting everyone to submit the assignment today\n",
      "\n",
      "keep up the good work, Sohail\n",
      "I am expecting everyone to submit the assignment today\n",
      "\n"
     ]
    }
   ],
   "source": [
    "for x in students:\n",
    "    print(f\"keep up the good work, {x.title()}\")\n",
    "    print(f\"I am expecting everyone to submit the assignment today\\n\")"
   ]
  },
  {
   "cell_type": "code",
   "execution_count": null,
   "id": "b12a5acb-2475-475a-a7eb-cc81ddeab4c8",
   "metadata": {},
   "outputs": [],
   "source": []
  },
  {
   "cell_type": "code",
   "execution_count": null,
   "id": "5e211575-ec6d-42ba-bba8-592e03f01330",
   "metadata": {},
   "outputs": [],
   "source": []
  }
 ],
 "metadata": {
  "kernelspec": {
   "display_name": "Python 3 (ipykernel)",
   "language": "python",
   "name": "python3"
  },
  "language_info": {
   "codemirror_mode": {
    "name": "ipython",
    "version": 3
   },
   "file_extension": ".py",
   "mimetype": "text/x-python",
   "name": "python",
   "nbconvert_exporter": "python",
   "pygments_lexer": "ipython3",
   "version": "3.9.7"
  }
 },
 "nbformat": 4,
 "nbformat_minor": 5
}
